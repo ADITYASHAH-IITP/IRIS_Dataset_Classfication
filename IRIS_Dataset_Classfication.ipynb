{
  "nbformat": 4,
  "nbformat_minor": 0,
  "metadata": {
    "colab": {
      "name": "IRIS_Dataset_Classfication.ipynb",
      "provenance": [],
      "authorship_tag": "ABX9TyNHFApKdzmiROxer/Jwuz72",
      "include_colab_link": true
    },
    "kernelspec": {
      "name": "python3",
      "display_name": "Python 3"
    },
    "language_info": {
      "name": "python"
    }
  },
  "cells": [
    {
      "cell_type": "markdown",
      "metadata": {
        "id": "view-in-github",
        "colab_type": "text"
      },
      "source": [
        "<a href=\"https://colab.research.google.com/github/ADITYASHAH-IITP/IRIS_Dataset_Classfication/blob/main/IRIS_Dataset_Classfication.ipynb\" target=\"_parent\"><img src=\"https://colab.research.google.com/assets/colab-badge.svg\" alt=\"Open In Colab\"/></a>"
      ]
    },
    {
      "cell_type": "code",
      "execution_count": 84,
      "metadata": {
        "id": "MfiPhSTP0v-J"
      },
      "outputs": [],
      "source": [
        "import tensorflow as tf"
      ]
    },
    {
      "cell_type": "code",
      "source": [
        "print(tf.__version__)"
      ],
      "metadata": {
        "colab": {
          "base_uri": "https://localhost:8080/"
        },
        "id": "uDvUpca-04WF",
        "outputId": "b594afb0-b5c9-44ce-d7f4-72233412d308"
      },
      "execution_count": 85,
      "outputs": [
        {
          "output_type": "stream",
          "name": "stdout",
          "text": [
            "2.7.0\n"
          ]
        }
      ]
    },
    {
      "cell_type": "code",
      "source": [
        "from sklearn.datasets import load_iris\n",
        "iris_dataset=load_iris() \n",
        "print(iris_dataset[\"DESCR\"])"
      ],
      "metadata": {
        "colab": {
          "base_uri": "https://localhost:8080/"
        },
        "id": "2QUuwK5b063l",
        "outputId": "81f76e55-cc7b-4fe6-9012-ef6355f1e8ea"
      },
      "execution_count": 86,
      "outputs": [
        {
          "output_type": "stream",
          "name": "stdout",
          "text": [
            ".. _iris_dataset:\n",
            "\n",
            "Iris plants dataset\n",
            "--------------------\n",
            "\n",
            "**Data Set Characteristics:**\n",
            "\n",
            "    :Number of Instances: 150 (50 in each of three classes)\n",
            "    :Number of Attributes: 4 numeric, predictive attributes and the class\n",
            "    :Attribute Information:\n",
            "        - sepal length in cm\n",
            "        - sepal width in cm\n",
            "        - petal length in cm\n",
            "        - petal width in cm\n",
            "        - class:\n",
            "                - Iris-Setosa\n",
            "                - Iris-Versicolour\n",
            "                - Iris-Virginica\n",
            "                \n",
            "    :Summary Statistics:\n",
            "\n",
            "    ============== ==== ==== ======= ===== ====================\n",
            "                    Min  Max   Mean    SD   Class Correlation\n",
            "    ============== ==== ==== ======= ===== ====================\n",
            "    sepal length:   4.3  7.9   5.84   0.83    0.7826\n",
            "    sepal width:    2.0  4.4   3.05   0.43   -0.4194\n",
            "    petal length:   1.0  6.9   3.76   1.76    0.9490  (high!)\n",
            "    petal width:    0.1  2.5   1.20   0.76    0.9565  (high!)\n",
            "    ============== ==== ==== ======= ===== ====================\n",
            "\n",
            "    :Missing Attribute Values: None\n",
            "    :Class Distribution: 33.3% for each of 3 classes.\n",
            "    :Creator: R.A. Fisher\n",
            "    :Donor: Michael Marshall (MARSHALL%PLU@io.arc.nasa.gov)\n",
            "    :Date: July, 1988\n",
            "\n",
            "The famous Iris database, first used by Sir R.A. Fisher. The dataset is taken\n",
            "from Fisher's paper. Note that it's the same as in R, but not as in the UCI\n",
            "Machine Learning Repository, which has two wrong data points.\n",
            "\n",
            "This is perhaps the best known database to be found in the\n",
            "pattern recognition literature.  Fisher's paper is a classic in the field and\n",
            "is referenced frequently to this day.  (See Duda & Hart, for example.)  The\n",
            "data set contains 3 classes of 50 instances each, where each class refers to a\n",
            "type of iris plant.  One class is linearly separable from the other 2; the\n",
            "latter are NOT linearly separable from each other.\n",
            "\n",
            ".. topic:: References\n",
            "\n",
            "   - Fisher, R.A. \"The use of multiple measurements in taxonomic problems\"\n",
            "     Annual Eugenics, 7, Part II, 179-188 (1936); also in \"Contributions to\n",
            "     Mathematical Statistics\" (John Wiley, NY, 1950).\n",
            "   - Duda, R.O., & Hart, P.E. (1973) Pattern Classification and Scene Analysis.\n",
            "     (Q327.D83) John Wiley & Sons.  ISBN 0-471-22361-1.  See page 218.\n",
            "   - Dasarathy, B.V. (1980) \"Nosing Around the Neighborhood: A New System\n",
            "     Structure and Classification Rule for Recognition in Partially Exposed\n",
            "     Environments\".  IEEE Transactions on Pattern Analysis and Machine\n",
            "     Intelligence, Vol. PAMI-2, No. 1, 67-71.\n",
            "   - Gates, G.W. (1972) \"The Reduced Nearest Neighbor Rule\".  IEEE Transactions\n",
            "     on Information Theory, May 1972, 431-433.\n",
            "   - See also: 1988 MLC Proceedings, 54-64.  Cheeseman et al\"s AUTOCLASS II\n",
            "     conceptual clustering system finds 3 classes in the data.\n",
            "   - Many, many more ...\n"
          ]
        }
      ]
    },
    {
      "cell_type": "code",
      "source": [
        ""
      ],
      "metadata": {
        "id": "WLpo1efG3Fhk"
      },
      "execution_count": null,
      "outputs": []
    },
    {
      "cell_type": "code",
      "source": [
        "print(iris_dataset.keys())"
      ],
      "metadata": {
        "colab": {
          "base_uri": "https://localhost:8080/"
        },
        "id": "pYXziW491WRT",
        "outputId": "a59c24f6-db42-4155-d43b-9bf333407c25"
      },
      "execution_count": 87,
      "outputs": [
        {
          "output_type": "stream",
          "name": "stdout",
          "text": [
            "dict_keys(['data', 'target', 'frame', 'target_names', 'DESCR', 'feature_names', 'filename', 'data_module'])\n"
          ]
        }
      ]
    },
    {
      "cell_type": "code",
      "source": [
        "data=iris_dataset[\"data\"]\n",
        "targets=iris_dataset[\"target\"]"
      ],
      "metadata": {
        "id": "iMcW_5dP1vQl"
      },
      "execution_count": 90,
      "outputs": []
    },
    {
      "cell_type": "code",
      "source": [
        "targets\n"
      ],
      "metadata": {
        "id": "o5TSDjgQ15Oj",
        "colab": {
          "base_uri": "https://localhost:8080/"
        },
        "outputId": "40ef0b51-9c52-49fb-f8ba-ae34986e99fd"
      },
      "execution_count": 91,
      "outputs": [
        {
          "output_type": "execute_result",
          "data": {
            "text/plain": [
              "array([0, 0, 0, 0, 0, 0, 0, 0, 0, 0, 0, 0, 0, 0, 0, 0, 0, 0, 0, 0, 0, 0,\n",
              "       0, 0, 0, 0, 0, 0, 0, 0, 0, 0, 0, 0, 0, 0, 0, 0, 0, 0, 0, 0, 0, 0,\n",
              "       0, 0, 0, 0, 0, 0, 1, 1, 1, 1, 1, 1, 1, 1, 1, 1, 1, 1, 1, 1, 1, 1,\n",
              "       1, 1, 1, 1, 1, 1, 1, 1, 1, 1, 1, 1, 1, 1, 1, 1, 1, 1, 1, 1, 1, 1,\n",
              "       1, 1, 1, 1, 1, 1, 1, 1, 1, 1, 1, 1, 2, 2, 2, 2, 2, 2, 2, 2, 2, 2,\n",
              "       2, 2, 2, 2, 2, 2, 2, 2, 2, 2, 2, 2, 2, 2, 2, 2, 2, 2, 2, 2, 2, 2,\n",
              "       2, 2, 2, 2, 2, 2, 2, 2, 2, 2, 2, 2, 2, 2, 2, 2, 2, 2])"
            ]
          },
          "metadata": {},
          "execution_count": 91
        }
      ]
    },
    {
      "cell_type": "code",
      "source": [
        "from sklearn.model_selection import train_test_split\n",
        "from tensorflow.keras.utils import to_categorical\n",
        "train_data,test_data,train_targets,test_targets=train_test_split(data,targets,test_size=0.1)\n",
        "# Create categorical labels\n",
        "#\n",
        "train_targets = to_categorical(train_targets)\n",
        "test_targets = to_categorical(test_targets)\n",
        "print(train_data.shape)\n",
        "print(test_data.shape)\n",
        "print(train_targets.shape)\n",
        "print(test_targets.shape)"
      ],
      "metadata": {
        "colab": {
          "base_uri": "https://localhost:8080/"
        },
        "id": "HRi-nC_72NeO",
        "outputId": "daa54577-56e9-49b2-cf01-c8007288df5b"
      },
      "execution_count": 106,
      "outputs": [
        {
          "output_type": "stream",
          "name": "stdout",
          "text": [
            "(135, 4)\n",
            "(15, 4)\n",
            "(135, 3)\n",
            "(15, 3)\n"
          ]
        }
      ]
    },
    {
      "cell_type": "markdown",
      "source": [
        "Callbacks"
      ],
      "metadata": {
        "id": "6kYuHPqhLX02"
      }
    },
    {
      "cell_type": "code",
      "source": [
        "from tensorflow.keras.callbacks import Callback\n",
        "\n",
        "class TrainingCallback(Callback):\n",
        "  def on_train_begin(self,logs=None):\n",
        "    print(\"Starting training...\")\n",
        "\n",
        "  def on_train_begin(self,logs=None):\n",
        "    print(\"Starting training...\")\n",
        "\n",
        "  def on_epoch_begin(self,epoch,logs=None):\n",
        "    print(f\"Starting epoch{epoch}...\")\n",
        "\n",
        "  def on_train_batch_begin(self,batch,logs=None):\n",
        "    print(f\"Starting Batch training {batch}...\")       \n",
        "    \n",
        "  def on_train_batch_end(self,batch,logs=None):\n",
        "    print(\"End of batch training{batch}...\")\n",
        "\n",
        "  def on_epoch_begin(self,epoch,logs=None):\n",
        "    print(f\"End of Batch training {epoch}...\")     \n",
        "\n",
        "  def on_train_end(self,logs=None):\n",
        "    print(\"Finished training...\")       "
      ],
      "metadata": {
        "id": "1uqDn8qWLWmR"
      },
      "execution_count": 94,
      "outputs": []
    },
    {
      "cell_type": "code",
      "source": [
        "from tensorflow.keras.callbacks import Callback\n",
        "\n",
        "class TestingCallback(Callback):\n",
        "  def on_test_begin(self,logs=None):\n",
        "    print(\"Starting testing...\")\n",
        "\n",
        "  def on_test_begin(self,logs=None):\n",
        "    print(\"Starting testing...\")\n",
        "\n",
        "\n",
        "\n",
        "  def on_test_batch_begin(self,batch,logs=None):\n",
        "    print(f\"Starting Batch testing {batch}...\")       \n",
        "    \n",
        "  def on_test_batch_end(self,batch,logs=None):\n",
        "    print(\"End of batch testing{batch}...\")\n",
        "\n",
        "\n",
        "  def on_test_end(self,logs=None):\n",
        "    print(\"Finished testing...\")     "
      ],
      "metadata": {
        "id": "WXA93jgVOntI"
      },
      "execution_count": 95,
      "outputs": []
    },
    {
      "cell_type": "code",
      "source": [
        "from tensorflow.keras.callbacks import Callback\n",
        "\n",
        "class PredictionCallback(Callback):\n",
        "  def on_predict_begin(self,logs=None):\n",
        "    print(\"Starting predict...\")\n",
        "\n",
        "  def on_predict_begin(self,logs=None):\n",
        "    print(\"Starting predict...\")\n",
        "\n",
        "\n",
        "\n",
        "  def on_predict_batch_begin(self,batch,logs=None):\n",
        "    print(f\"Starting Batch predict {batch}...\")       \n",
        "    \n",
        "  def on_predict_batch_end(self,batch,logs=None):\n",
        "    print(\"End of batch predict{batch}...\")\n",
        "\n",
        "\n",
        "  def on_predict_end(self,logs=None):\n",
        "    print(\"Finished predict...\")   "
      ],
      "metadata": {
        "id": "XdtcxEAvOn2l"
      },
      "execution_count": 96,
      "outputs": []
    },
    {
      "cell_type": "markdown",
      "source": [
        "Build Model"
      ],
      "metadata": {
        "id": "XjxyymaT3HE0"
      }
    },
    {
      "cell_type": "code",
      "source": [
        "from tensorflow.keras.models  import Sequential\n",
        "from tensorflow.keras.layers import Dense,Flatten,Softmax,Conv2D,MaxPooling2D,Dropout\n",
        "from tensorflow.keras import regularizers"
      ],
      "metadata": {
        "id": "vOIIfDeN3IAU"
      },
      "execution_count": 97,
      "outputs": []
    },
    {
      "cell_type": "code",
      "source": [
        "def get_regularised_model(wd,rate):\n",
        "  model=Sequential([\n",
        "                    Dense(128,kernel_regularizer=regularizers.l2(wd),activation='relu',input_shape=(train_data.shape[1],)),\n",
        "                    Dropout(rate),\n",
        "                    Dense(128,kernel_regularizer=regularizers.l2(wd),activation='relu'),\n",
        "                    Dropout(rate),\n",
        "                    Dense(128,kernel_regularizer=regularizers.l2(wd),activation='relu'),\n",
        "                    Dropout(rate),\n",
        "                    Dense(128,kernel_regularizer=regularizers.l2(wd),activation='relu'),\n",
        "                    Dropout(rate),\n",
        "                    Dense(128,kernel_regularizer=regularizers.l2(wd),activation='relu'),\n",
        "                    Dropout(rate),\n",
        "                    Dense(128,kernel_regularizer=regularizers.l2(wd),activation='relu'),\n",
        "                    Dense(3,activation='softmax')\n",
        "  ])\n",
        "  return model\n",
        "model=get_regularised_model(1e-6,0.56)"
      ],
      "metadata": {
        "id": "xzTXKyrAEibU"
      },
      "execution_count": 98,
      "outputs": []
    },
    {
      "cell_type": "code",
      "source": [
        "def getmodel():\n",
        "  model=Sequential([\n",
        "                    Dense(128,activation='relu',input_shape=(train_data.shape[1],)),\n",
        "                    Dense(128,activation='relu'),\n",
        "                    Dense(128,activation='relu'),\n",
        "                    Dense(128,activation='relu'),\n",
        "                    Dense(128,activation='relu'),\n",
        "                    Dense(128,activation='relu'),\n",
        "                    Dense(3,activation='softmax')\n",
        "  ])\n",
        "  return model\n",
        "model=getmodel()"
      ],
      "metadata": {
        "id": "kStgJASf3TRa"
      },
      "execution_count": 99,
      "outputs": []
    },
    {
      "cell_type": "code",
      "source": [
        "model.summary()"
      ],
      "metadata": {
        "colab": {
          "base_uri": "https://localhost:8080/"
        },
        "id": "-Nm8m_kp4mZZ",
        "outputId": "126beb36-37ac-40d0-e775-01f36349394b"
      },
      "execution_count": 100,
      "outputs": [
        {
          "output_type": "stream",
          "name": "stdout",
          "text": [
            "Model: \"sequential_27\"\n",
            "_________________________________________________________________\n",
            " Layer (type)                Output Shape              Param #   \n",
            "=================================================================\n",
            " dense_189 (Dense)           (None, 128)               640       \n",
            "                                                                 \n",
            " dense_190 (Dense)           (None, 128)               16512     \n",
            "                                                                 \n",
            " dense_191 (Dense)           (None, 128)               16512     \n",
            "                                                                 \n",
            " dense_192 (Dense)           (None, 128)               16512     \n",
            "                                                                 \n",
            " dense_193 (Dense)           (None, 128)               16512     \n",
            "                                                                 \n",
            " dense_194 (Dense)           (None, 128)               16512     \n",
            "                                                                 \n",
            " dense_195 (Dense)           (None, 3)                 387       \n",
            "                                                                 \n",
            "=================================================================\n",
            "Total params: 83,587\n",
            "Trainable params: 83,587\n",
            "Non-trainable params: 0\n",
            "_________________________________________________________________\n"
          ]
        }
      ]
    },
    {
      "cell_type": "code",
      "source": [
        "model.compile(optimizer=\"adam\",loss=\"mse\",metrics=[\"mae\"])"
      ],
      "metadata": {
        "id": "xKYjiVhG4rDI"
      },
      "execution_count": null,
      "outputs": []
    },
    {
      "cell_type": "code",
      "source": [
        "history=model.fit(train_data,train_targets,epochs=3,batch_size=128,validation_split=0.15,verbose=False,callbacks=[TrainingCallback()])"
      ],
      "metadata": {
        "colab": {
          "base_uri": "https://localhost:8080/"
        },
        "id": "2GkZ8jVO461b",
        "outputId": "7a5b9ae6-3c7c-4126-b0e9-e651771fa4f6"
      },
      "execution_count": null,
      "outputs": [
        {
          "output_type": "stream",
          "name": "stdout",
          "text": [
            "Starting training...\n",
            "End of Batch training 0...\n",
            "Starting Batch training 0...\n",
            "End of batch training{batch}...\n",
            "Starting Batch training 1...\n",
            "End of batch training{batch}...\n",
            "Starting Batch training 2...\n",
            "End of batch training{batch}...\n",
            "End of Batch training 1...\n",
            "Starting Batch training 0...\n",
            "End of batch training{batch}...\n",
            "Starting Batch training 1...\n",
            "End of batch training{batch}...\n",
            "Starting Batch training 2...\n",
            "End of batch training{batch}...\n",
            "End of Batch training 2...\n",
            "Starting Batch training 0...\n",
            "End of batch training{batch}...\n",
            "Starting Batch training 1...\n",
            "End of batch training{batch}...\n",
            "Starting Batch training 2...\n",
            "End of batch training{batch}...\n",
            "Finished training...\n"
          ]
        }
      ]
    },
    {
      "cell_type": "code",
      "source": [
        ""
      ],
      "metadata": {
        "id": "zT0TGt8ePN_g"
      },
      "execution_count": null,
      "outputs": []
    },
    {
      "cell_type": "code",
      "source": [
        ""
      ],
      "metadata": {
        "id": "F8aNzWhiPOEj"
      },
      "execution_count": null,
      "outputs": []
    },
    {
      "cell_type": "code",
      "source": [
        "model.evaluate(test_data,test_targets,verbose=2)"
      ],
      "metadata": {
        "colab": {
          "base_uri": "https://localhost:8080/"
        },
        "id": "YtOgW4yc5Orj",
        "outputId": "a5b5c63c-ead6-471e-ace5-b063f0426595"
      },
      "execution_count": null,
      "outputs": [
        {
          "output_type": "stream",
          "name": "stdout",
          "text": [
            "2/2 - 0s - loss: 0.3822 - mae: 0.5185 - 20ms/epoch - 10ms/step\n"
          ]
        },
        {
          "output_type": "execute_result",
          "data": {
            "text/plain": [
              "[0.3822028338909149, 0.5185195207595825]"
            ]
          },
          "metadata": {},
          "execution_count": 34
        }
      ]
    },
    {
      "cell_type": "code",
      "source": [
        "model.evaluate(test_data,test_targets,verbose=False,callbacks=[TestingCallback()])"
      ],
      "metadata": {
        "colab": {
          "base_uri": "https://localhost:8080/"
        },
        "id": "l9n1yUBXPPaW",
        "outputId": "939ebe92-783b-4ed1-aa50-2583bf1c46ca"
      },
      "execution_count": null,
      "outputs": [
        {
          "output_type": "stream",
          "name": "stdout",
          "text": [
            "Starting testing...\n",
            "Starting Batch testing 0...\n",
            "End of batch testing{batch}...\n",
            "Starting Batch testing 1...\n",
            "End of batch testing{batch}...\n",
            "Finished testing...\n"
          ]
        },
        {
          "output_type": "execute_result",
          "data": {
            "text/plain": [
              "[0.8688074946403503, 0.787440836429596]"
            ]
          },
          "metadata": {},
          "execution_count": 48
        }
      ]
    },
    {
      "cell_type": "code",
      "source": [
        "model.predict(test_data,verbose=False,callbacks=[PredictionCallback()])"
      ],
      "metadata": {
        "colab": {
          "base_uri": "https://localhost:8080/"
        },
        "id": "zriC_HwMPcp3",
        "outputId": "e2bd5503-8a83-4200-d5a6-a58a6eabc6c1"
      },
      "execution_count": null,
      "outputs": [
        {
          "output_type": "stream",
          "name": "stdout",
          "text": [
            "Starting predict...\n",
            "Starting Batch predict 0...\n",
            "End of batch predict{batch}...\n",
            "Starting Batch predict 1...\n",
            "End of batch predict{batch}...\n",
            "Finished predict...\n"
          ]
        },
        {
          "output_type": "execute_result",
          "data": {
            "text/plain": [
              "array([[0.02394536],\n",
              "       [0.02611406],\n",
              "       [0.0314544 ],\n",
              "       [0.02579872],\n",
              "       [0.02634114],\n",
              "       [0.03356683],\n",
              "       [0.02664038],\n",
              "       [0.02798058],\n",
              "       [0.0253697 ],\n",
              "       [0.02916073],\n",
              "       [0.03081506],\n",
              "       [0.0305932 ],\n",
              "       [0.0314163 ],\n",
              "       [0.02677316],\n",
              "       [0.02040855],\n",
              "       [0.02965745],\n",
              "       [0.03110197],\n",
              "       [0.02528995],\n",
              "       [0.02778071],\n",
              "       [0.03243035],\n",
              "       [0.02704193],\n",
              "       [0.02580317],\n",
              "       [0.02730309],\n",
              "       [0.02539958],\n",
              "       [0.02726768],\n",
              "       [0.02945923],\n",
              "       [0.02893423],\n",
              "       [0.0299076 ],\n",
              "       [0.02833239],\n",
              "       [0.03001698],\n",
              "       [0.03080209],\n",
              "       [0.03257049],\n",
              "       [0.03113746],\n",
              "       [0.02522583],\n",
              "       [0.02650622],\n",
              "       [0.02724263],\n",
              "       [0.03183592],\n",
              "       [0.02893299],\n",
              "       [0.03182098],\n",
              "       [0.02986338],\n",
              "       [0.02690372],\n",
              "       [0.02746176],\n",
              "       [0.03071503],\n",
              "       [0.02621109],\n",
              "       [0.0320631 ]], dtype=float32)"
            ]
          },
          "metadata": {},
          "execution_count": 49
        }
      ]
    },
    {
      "cell_type": "markdown",
      "source": [
        "#Early Stopping/Patience"
      ],
      "metadata": {
        "id": "p6-GuY5DVymJ"
      }
    },
    {
      "cell_type": "code",
      "source": [
        "unregularized_model=getmodel()\n",
        "unregularized_model.compile(optimizer='adam',loss='categorical_crossentropy',metrics=['accuracy'])\n",
        "unreg_history=unregularized_model.fit(train_data,train_targets,epochs=100,validation_split=0.15,batch_size=86,verbose=False,callbacks=[tf.keras.callbacks.EarlyStopping(patience=1)])\n"
      ],
      "metadata": {
        "id": "zE3USUKbVx0r"
      },
      "execution_count": 107,
      "outputs": []
    },
    {
      "cell_type": "code",
      "source": [
        "unregularized_model.evaluate(test_data,test_targets,verbose=2)"
      ],
      "metadata": {
        "colab": {
          "base_uri": "https://localhost:8080/"
        },
        "id": "d5I9HTKiWdpZ",
        "outputId": "e6dc2314-0618-4244-8f03-773e2a4d3800"
      },
      "execution_count": 108,
      "outputs": [
        {
          "output_type": "stream",
          "name": "stdout",
          "text": [
            "1/1 - 0s - loss: 0.1693 - accuracy: 1.0000 - 18ms/epoch - 18ms/step\n"
          ]
        },
        {
          "output_type": "execute_result",
          "data": {
            "text/plain": [
              "[0.16931462287902832, 1.0]"
            ]
          },
          "metadata": {},
          "execution_count": 108
        }
      ]
    },
    {
      "cell_type": "code",
      "source": [
        "regularized_model= get_regularised_model(1e-65,0.25)\n",
        "regularized_model.compile(optimizer='adam',loss='categorical_crossentropy',metrics=['accuracy'])\n",
        "reg_history=regularized_model.fit(train_data,train_targets,epochs=100,validation_split=0.15,batch_size=86,verbose=False,callbacks=[tf.keras.callbacks.EarlyStopping(patience=2)])"
      ],
      "metadata": {
        "id": "WsDJBtCfXcDC"
      },
      "execution_count": 109,
      "outputs": []
    },
    {
      "cell_type": "code",
      "source": [
        "regularized_model.evaluate(test_data,test_targets,verbose=2)"
      ],
      "metadata": {
        "colab": {
          "base_uri": "https://localhost:8080/"
        },
        "id": "ddyGLp1fXx2Q",
        "outputId": "304d8f80-ac6b-4dcd-f573-862327c784f7"
      },
      "execution_count": 110,
      "outputs": [
        {
          "output_type": "stream",
          "name": "stdout",
          "text": [
            "1/1 - 0s - loss: 0.3585 - accuracy: 0.7333 - 17ms/epoch - 17ms/step\n"
          ]
        },
        {
          "output_type": "execute_result",
          "data": {
            "text/plain": [
              "[0.3584724962711334, 0.7333333492279053]"
            ]
          },
          "metadata": {},
          "execution_count": 110
        }
      ]
    },
    {
      "cell_type": "code",
      "source": [
        "import matplotlib.pyplot as plt\n"
      ],
      "metadata": {
        "id": "qB724tds5VkL"
      },
      "execution_count": 111,
      "outputs": []
    },
    {
      "cell_type": "code",
      "source": [
        "fig=plt.figure(figsize=(12,5))\n",
        "fig.add_subplot(121)\n",
        "plt.plot(unreg_history.history['loss'],label='Training')\n",
        "plt.plot(unreg_history.history['val_loss'],label='Validation')\n",
        "plt.legend()\n",
        "plt.title('unreg_history Loss vs Epochs')\n",
        "plt.ylabel('unreg_history Loss')\n",
        "plt.xlabel('unreg_history Epochs')\n",
        "\n",
        "fig.add_subplot(122)\n",
        "plt.plot(reg_history.history['loss'],label='Training')\n",
        "plt.plot(reg_history.history['val_loss'],label='Validation')\n",
        "plt.legend()\n",
        "plt.title('reg_history Loss vs Epochs')\n",
        "plt.ylabel('reg_history Loss')\n",
        "plt.xlabel('reg_history Epochs')\n",
        "\n"
      ],
      "metadata": {
        "colab": {
          "base_uri": "https://localhost:8080/",
          "height": 369
        },
        "id": "ytCBd9fVX9Vo",
        "outputId": "b450a982-69ad-4a43-f163-7dafb650d730"
      },
      "execution_count": 112,
      "outputs": [
        {
          "output_type": "execute_result",
          "data": {
            "text/plain": [
              "Text(0.5, 0, 'reg_history Epochs')"
            ]
          },
          "metadata": {},
          "execution_count": 112
        },
        {
          "output_type": "display_data",
          "data": {
            "image/png": "[encoded data removed]",
            "text/plain": [
              "<Figure size 864x360 with 2 Axes>"
            ]
          },
          "metadata": {
            "needs_background": "light"
          }
        }
      ]
    }
  ]
}